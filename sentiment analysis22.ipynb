{
 "cells": [
  {
   "cell_type": "code",
   "execution_count": 51,
   "metadata": {},
   "outputs": [],
   "source": [
    "import numpy as np \n",
    "import pandas as pd \n",
    "import datetime\n",
    "from datetime import datetime,date\n",
    "import time\n",
    "import re"
   ]
  },
  {
   "cell_type": "code",
   "execution_count": 52,
   "metadata": {
    "scrolled": true
   },
   "outputs": [
    {
     "data": {
      "text/html": [
       "<div>\n",
       "<style scoped>\n",
       "    .dataframe tbody tr th:only-of-type {\n",
       "        vertical-align: middle;\n",
       "    }\n",
       "\n",
       "    .dataframe tbody tr th {\n",
       "        vertical-align: top;\n",
       "    }\n",
       "\n",
       "    .dataframe thead th {\n",
       "        text-align: right;\n",
       "    }\n",
       "</style>\n",
       "<table border=\"1\" class=\"dataframe\">\n",
       "  <thead>\n",
       "    <tr style=\"text-align: right;\">\n",
       "      <th></th>\n",
       "      <th>title</th>\n",
       "      <th>date</th>\n",
       "      <th>stock</th>\n",
       "    </tr>\n",
       "  </thead>\n",
       "  <tbody>\n",
       "    <tr>\n",
       "      <th>132072</th>\n",
       "      <td>Shares of several business service companies a...</td>\n",
       "      <td>2019-08-14 13:40:00-04:00</td>\n",
       "      <td>BAH</td>\n",
       "    </tr>\n",
       "    <tr>\n",
       "      <th>1085929</th>\n",
       "      <td>38 Stocks Moving In Thursday's Mid-Day Session</td>\n",
       "      <td>2017-11-16 12:25:00-05:00</td>\n",
       "      <td>ROK</td>\n",
       "    </tr>\n",
       "    <tr>\n",
       "      <th>249445</th>\n",
       "      <td>Shares of several oil companies are trading hi...</td>\n",
       "      <td>2020-04-09 09:29:00-04:00</td>\n",
       "      <td>CLR</td>\n",
       "    </tr>\n",
       "    <tr>\n",
       "      <th>530897</th>\n",
       "      <td>Earnings Scheduled For June 3, 2020</td>\n",
       "      <td>2020-06-03 04:48:00-04:00</td>\n",
       "      <td>GEF</td>\n",
       "    </tr>\n",
       "    <tr>\n",
       "      <th>49200</th>\n",
       "      <td>My Favorite Picks to Ride the Recovering U.S. ...</td>\n",
       "      <td>2013-10-29 11:28:00-04:00</td>\n",
       "      <td>AIV</td>\n",
       "    </tr>\n",
       "  </tbody>\n",
       "</table>\n",
       "</div>"
      ],
      "text/plain": [
       "                                                     title  \\\n",
       "132072   Shares of several business service companies a...   \n",
       "1085929     38 Stocks Moving In Thursday's Mid-Day Session   \n",
       "249445   Shares of several oil companies are trading hi...   \n",
       "530897                 Earnings Scheduled For June 3, 2020   \n",
       "49200    My Favorite Picks to Ride the Recovering U.S. ...   \n",
       "\n",
       "                              date stock  \n",
       "132072   2019-08-14 13:40:00-04:00   BAH  \n",
       "1085929  2017-11-16 12:25:00-05:00   ROK  \n",
       "249445   2020-04-09 09:29:00-04:00   CLR  \n",
       "530897   2020-06-03 04:48:00-04:00   GEF  \n",
       "49200    2013-10-29 11:28:00-04:00   AIV  "
      ]
     },
     "execution_count": 52,
     "metadata": {},
     "output_type": "execute_result"
    }
   ],
   "source": [
    "data = pd.read_csv('analyst_ratings_processed.csv')\n",
    "data = data.drop(['Unnamed: 0'],axis=1)\n",
    "data.sample(5)"
   ]
  },
  {
   "cell_type": "markdown",
   "metadata": {},
   "source": [
    "### Select Date Range"
   ]
  },
  {
   "cell_type": "code",
   "execution_count": 53,
   "metadata": {},
   "outputs": [
    {
     "data": {
      "text/html": [
       "<div>\n",
       "<style scoped>\n",
       "    .dataframe tbody tr th:only-of-type {\n",
       "        vertical-align: middle;\n",
       "    }\n",
       "\n",
       "    .dataframe tbody tr th {\n",
       "        vertical-align: top;\n",
       "    }\n",
       "\n",
       "    .dataframe thead th {\n",
       "        text-align: right;\n",
       "    }\n",
       "</style>\n",
       "<table border=\"1\" class=\"dataframe\">\n",
       "  <thead>\n",
       "    <tr style=\"text-align: right;\">\n",
       "      <th></th>\n",
       "      <th>title</th>\n",
       "      <th>datetime</th>\n",
       "      <th>stock</th>\n",
       "      <th>date</th>\n",
       "      <th>time</th>\n",
       "    </tr>\n",
       "  </thead>\n",
       "  <tbody>\n",
       "    <tr>\n",
       "      <th>0</th>\n",
       "      <td>Stocks That Hit 52-Week Highs On Friday</td>\n",
       "      <td>2020-06-05 10:30:00-04:00</td>\n",
       "      <td>A</td>\n",
       "      <td>2020-06-05</td>\n",
       "      <td>10:30:00-04:00</td>\n",
       "    </tr>\n",
       "    <tr>\n",
       "      <th>1</th>\n",
       "      <td>Stocks That Hit 52-Week Highs On Wednesday</td>\n",
       "      <td>2020-06-03 10:45:00-04:00</td>\n",
       "      <td>A</td>\n",
       "      <td>2020-06-03</td>\n",
       "      <td>10:45:00-04:00</td>\n",
       "    </tr>\n",
       "    <tr>\n",
       "      <th>2</th>\n",
       "      <td>71 Biggest Movers From Friday</td>\n",
       "      <td>2020-05-26 04:30:00-04:00</td>\n",
       "      <td>A</td>\n",
       "      <td>2020-05-26</td>\n",
       "      <td>04:30:00-04:00</td>\n",
       "    </tr>\n",
       "    <tr>\n",
       "      <th>3</th>\n",
       "      <td>46 Stocks Moving In Friday's Mid-Day Session</td>\n",
       "      <td>2020-05-22 12:45:00-04:00</td>\n",
       "      <td>A</td>\n",
       "      <td>2020-05-22</td>\n",
       "      <td>12:45:00-04:00</td>\n",
       "    </tr>\n",
       "    <tr>\n",
       "      <th>4</th>\n",
       "      <td>B of A Securities Maintains Neutral on Agilent...</td>\n",
       "      <td>2020-05-22 11:38:00-04:00</td>\n",
       "      <td>A</td>\n",
       "      <td>2020-05-22</td>\n",
       "      <td>11:38:00-04:00</td>\n",
       "    </tr>\n",
       "  </tbody>\n",
       "</table>\n",
       "</div>"
      ],
      "text/plain": [
       "                                               title  \\\n",
       "0            Stocks That Hit 52-Week Highs On Friday   \n",
       "1         Stocks That Hit 52-Week Highs On Wednesday   \n",
       "2                      71 Biggest Movers From Friday   \n",
       "3       46 Stocks Moving In Friday's Mid-Day Session   \n",
       "4  B of A Securities Maintains Neutral on Agilent...   \n",
       "\n",
       "                    datetime stock        date            time  \n",
       "0  2020-06-05 10:30:00-04:00     A  2020-06-05  10:30:00-04:00  \n",
       "1  2020-06-03 10:45:00-04:00     A  2020-06-03  10:45:00-04:00  \n",
       "2  2020-05-26 04:30:00-04:00     A  2020-05-26  04:30:00-04:00  \n",
       "3  2020-05-22 12:45:00-04:00     A  2020-05-22  12:45:00-04:00  \n",
       "4  2020-05-22 11:38:00-04:00     A  2020-05-22  11:38:00-04:00  "
      ]
     },
     "execution_count": 53,
     "metadata": {},
     "output_type": "execute_result"
    }
   ],
   "source": [
    "data.rename(columns={'date':'datetime'},inplace = True)\n",
    "data[['date','time']] = data.datetime.str.split(expand=True)\n",
    "data = data[data['date'].apply(lambda x: isinstance(x, str))]\n",
    "data = data[data['date'].apply(lambda x: re.match('\\d{4}-\\d{2}-\\d{2}', x) != None)]\n",
    "data.head()"
   ]
  },
  {
   "cell_type": "code",
   "execution_count": 55,
   "metadata": {},
   "outputs": [],
   "source": [
    "start_date = datetime.strptime('2010-01-01','%Y-%m-%d').date()\n",
    "end_date = datetime.strptime('2020-12-12','%Y-%m-%d').date()\n"
   ]
  },
  {
   "cell_type": "code",
   "execution_count": 56,
   "metadata": {},
   "outputs": [],
   "source": [
    "date_column = data['date'].apply(lambda x: datetime.strptime(x,'%Y-%m-%d').date())\n"
   ]
  },
  {
   "cell_type": "code",
   "execution_count": 57,
   "metadata": {},
   "outputs": [
    {
     "data": {
      "text/html": [
       "<div>\n",
       "<style scoped>\n",
       "    .dataframe tbody tr th:only-of-type {\n",
       "        vertical-align: middle;\n",
       "    }\n",
       "\n",
       "    .dataframe tbody tr th {\n",
       "        vertical-align: top;\n",
       "    }\n",
       "\n",
       "    .dataframe thead th {\n",
       "        text-align: right;\n",
       "    }\n",
       "</style>\n",
       "<table border=\"1\" class=\"dataframe\">\n",
       "  <thead>\n",
       "    <tr style=\"text-align: right;\">\n",
       "      <th></th>\n",
       "      <th>title</th>\n",
       "      <th>datetime</th>\n",
       "      <th>stock</th>\n",
       "      <th>date</th>\n",
       "      <th>time</th>\n",
       "    </tr>\n",
       "  </thead>\n",
       "  <tbody>\n",
       "    <tr>\n",
       "      <th>0</th>\n",
       "      <td>Stocks That Hit 52-Week Highs On Friday</td>\n",
       "      <td>2020-06-05 10:30:00-04:00</td>\n",
       "      <td>A</td>\n",
       "      <td>2020-06-05</td>\n",
       "      <td>10:30:00-04:00</td>\n",
       "    </tr>\n",
       "    <tr>\n",
       "      <th>1</th>\n",
       "      <td>Stocks That Hit 52-Week Highs On Wednesday</td>\n",
       "      <td>2020-06-03 10:45:00-04:00</td>\n",
       "      <td>A</td>\n",
       "      <td>2020-06-03</td>\n",
       "      <td>10:45:00-04:00</td>\n",
       "    </tr>\n",
       "    <tr>\n",
       "      <th>2</th>\n",
       "      <td>71 Biggest Movers From Friday</td>\n",
       "      <td>2020-05-26 04:30:00-04:00</td>\n",
       "      <td>A</td>\n",
       "      <td>2020-05-26</td>\n",
       "      <td>04:30:00-04:00</td>\n",
       "    </tr>\n",
       "    <tr>\n",
       "      <th>3</th>\n",
       "      <td>46 Stocks Moving In Friday's Mid-Day Session</td>\n",
       "      <td>2020-05-22 12:45:00-04:00</td>\n",
       "      <td>A</td>\n",
       "      <td>2020-05-22</td>\n",
       "      <td>12:45:00-04:00</td>\n",
       "    </tr>\n",
       "    <tr>\n",
       "      <th>4</th>\n",
       "      <td>B of A Securities Maintains Neutral on Agilent...</td>\n",
       "      <td>2020-05-22 11:38:00-04:00</td>\n",
       "      <td>A</td>\n",
       "      <td>2020-05-22</td>\n",
       "      <td>11:38:00-04:00</td>\n",
       "    </tr>\n",
       "    <tr>\n",
       "      <th>...</th>\n",
       "      <td>...</td>\n",
       "      <td>...</td>\n",
       "      <td>...</td>\n",
       "      <td>...</td>\n",
       "      <td>...</td>\n",
       "    </tr>\n",
       "    <tr>\n",
       "      <th>1400464</th>\n",
       "      <td>Top Narrow Based Indexes For August 29</td>\n",
       "      <td>2011-08-29 10:41:00-04:00</td>\n",
       "      <td>ZX</td>\n",
       "      <td>2011-08-29</td>\n",
       "      <td>10:41:00-04:00</td>\n",
       "    </tr>\n",
       "    <tr>\n",
       "      <th>1400465</th>\n",
       "      <td>Recap: Wednesday's Top Percentage Gainers and ...</td>\n",
       "      <td>2011-06-22 16:44:00-04:00</td>\n",
       "      <td>ZX</td>\n",
       "      <td>2011-06-22</td>\n",
       "      <td>16:44:00-04:00</td>\n",
       "    </tr>\n",
       "    <tr>\n",
       "      <th>1400466</th>\n",
       "      <td>UPDATE: Oppenheimer Color on China Zenix Auto ...</td>\n",
       "      <td>2011-06-21 08:26:00-04:00</td>\n",
       "      <td>ZX</td>\n",
       "      <td>2011-06-21</td>\n",
       "      <td>08:26:00-04:00</td>\n",
       "    </tr>\n",
       "    <tr>\n",
       "      <th>1400467</th>\n",
       "      <td>Oppenheimer Initiates China Zenix At Outperfor...</td>\n",
       "      <td>2011-06-21 05:59:00-04:00</td>\n",
       "      <td>ZX</td>\n",
       "      <td>2011-06-21</td>\n",
       "      <td>05:59:00-04:00</td>\n",
       "    </tr>\n",
       "    <tr>\n",
       "      <th>1400468</th>\n",
       "      <td>China Zenix Auto International Opens For Tradi...</td>\n",
       "      <td>2011-05-12 09:36:00-04:00</td>\n",
       "      <td>ZX</td>\n",
       "      <td>2011-05-12</td>\n",
       "      <td>09:36:00-04:00</td>\n",
       "    </tr>\n",
       "  </tbody>\n",
       "</table>\n",
       "<p>1383570 rows × 5 columns</p>\n",
       "</div>"
      ],
      "text/plain": [
       "                                                     title  \\\n",
       "0                  Stocks That Hit 52-Week Highs On Friday   \n",
       "1               Stocks That Hit 52-Week Highs On Wednesday   \n",
       "2                            71 Biggest Movers From Friday   \n",
       "3             46 Stocks Moving In Friday's Mid-Day Session   \n",
       "4        B of A Securities Maintains Neutral on Agilent...   \n",
       "...                                                    ...   \n",
       "1400464             Top Narrow Based Indexes For August 29   \n",
       "1400465  Recap: Wednesday's Top Percentage Gainers and ...   \n",
       "1400466  UPDATE: Oppenheimer Color on China Zenix Auto ...   \n",
       "1400467  Oppenheimer Initiates China Zenix At Outperfor...   \n",
       "1400468  China Zenix Auto International Opens For Tradi...   \n",
       "\n",
       "                          datetime stock        date            time  \n",
       "0        2020-06-05 10:30:00-04:00     A  2020-06-05  10:30:00-04:00  \n",
       "1        2020-06-03 10:45:00-04:00     A  2020-06-03  10:45:00-04:00  \n",
       "2        2020-05-26 04:30:00-04:00     A  2020-05-26  04:30:00-04:00  \n",
       "3        2020-05-22 12:45:00-04:00     A  2020-05-22  12:45:00-04:00  \n",
       "4        2020-05-22 11:38:00-04:00     A  2020-05-22  11:38:00-04:00  \n",
       "...                            ...   ...         ...             ...  \n",
       "1400464  2011-08-29 10:41:00-04:00    ZX  2011-08-29  10:41:00-04:00  \n",
       "1400465  2011-06-22 16:44:00-04:00    ZX  2011-06-22  16:44:00-04:00  \n",
       "1400466  2011-06-21 08:26:00-04:00    ZX  2011-06-21  08:26:00-04:00  \n",
       "1400467  2011-06-21 05:59:00-04:00    ZX  2011-06-21  05:59:00-04:00  \n",
       "1400468  2011-05-12 09:36:00-04:00    ZX  2011-05-12  09:36:00-04:00  \n",
       "\n",
       "[1383570 rows x 5 columns]"
      ]
     },
     "execution_count": 57,
     "metadata": {},
     "output_type": "execute_result"
    }
   ],
   "source": [
    "data = data[(date_column>=start_date) & (date_column<=end_date)]\n",
    "data"
   ]
  },
  {
   "cell_type": "code",
   "execution_count": 320,
   "metadata": {},
   "outputs": [],
   "source": [
    "# data['date']=pd.to_datetime(data['date'])\n",
    "# data = data.set_index('date').between_date('2010-01-01','2020-12-12')\n",
    "# data.head()"
   ]
  },
  {
   "cell_type": "code",
   "execution_count": 254,
   "metadata": {},
   "outputs": [],
   "source": [
    "# data[data.date.between('2011-01-01','2020-12-12')]\n",
    "# data.sort_values(by=['date'],ascending=True).dropna()"
   ]
  },
  {
   "cell_type": "code",
   "execution_count": null,
   "metadata": {},
   "outputs": [],
   "source": []
  },
  {
   "cell_type": "code",
   "execution_count": null,
   "metadata": {},
   "outputs": [],
   "source": []
  },
  {
   "cell_type": "code",
   "execution_count": null,
   "metadata": {},
   "outputs": [],
   "source": []
  },
  {
   "cell_type": "code",
   "execution_count": null,
   "metadata": {},
   "outputs": [],
   "source": []
  },
  {
   "cell_type": "code",
   "execution_count": 172,
   "metadata": {},
   "outputs": [],
   "source": [
    "# data.rename(columns={'date':'datetime'},inplace = True)\n",
    "# data[['date','time']] = data.datetime.str.split(expand=True)\n",
    "# data.sample(5)"
   ]
  },
  {
   "cell_type": "code",
   "execution_count": 173,
   "metadata": {
    "scrolled": true
   },
   "outputs": [],
   "source": [
    "# data['date'] = pd.to_datetime(data['date'])\n",
    "# start_date = datetime.datetime.strptime('2010-01-01', '%Y-%m-%d').date()\n",
    "# end_date = datetime.datetime.strptime('2020-12-12', '%Y-%m-%d').date()"
   ]
  },
  {
   "cell_type": "code",
   "execution_count": 174,
   "metadata": {},
   "outputs": [],
   "source": [
    "# data = data[(data['date'] >= start_date) & (data['date'] <= end_date)]\n",
    "# data.sample(5)"
   ]
  },
  {
   "cell_type": "code",
   "execution_count": 175,
   "metadata": {},
   "outputs": [],
   "source": [
    "# def getUnixTime(row):\n",
    "#     dt = datetime.datetime(int(row[\"year\"]), int(row[\"month\"]),int(row[\"day\"]))\n",
    "#     return time.mktime(dt.timetuple())\n",
    "   \n",
    "# data[\"unix\"] = data.apply(lambda row: getUnixTime(row),axis=1 )\n",
    "# data.sample(5)"
   ]
  },
  {
   "cell_type": "code",
   "execution_count": null,
   "metadata": {},
   "outputs": [],
   "source": []
  }
 ],
 "metadata": {
  "kernelspec": {
   "display_name": "Python 3",
   "language": "python",
   "name": "python3"
  },
  "language_info": {
   "codemirror_mode": {
    "name": "ipython",
    "version": 3
   },
   "file_extension": ".py",
   "mimetype": "text/x-python",
   "name": "python",
   "nbconvert_exporter": "python",
   "pygments_lexer": "ipython3",
   "version": "3.7.7"
  }
 },
 "nbformat": 4,
 "nbformat_minor": 4
}
